{
 "cells": [
  {
   "cell_type": "code",
   "execution_count": null,
   "metadata": {},
   "outputs": [],
   "source": [
    "import pandas as pd\n",
    "%matplotlib inline\n",
    "\n",
    "path = 'shared-ns1000k/inputs/BSRN_NYA/'\n",
    "filename = path + 'NYA_radiation_2011-03.tab'\n",
    "\n",
    "def find_start(file):\n",
    "    i = 1\n",
    "    with open(file, 'r') as input:\n",
    "        for line in input:\n",
    "            if '*/' in line:\n",
    "                break\n",
    "            i = i + 1\n",
    "    return i\n",
    "\n",
    "skip_rows = find_start(filename)\n",
    "print(skip_rows)\n",
    "\n",
    "data = pd.read_csv(filename, sep='\\t', skiprows=skip_rows, \n",
    "                   index_col = 'Date/Time',\n",
    "                   dtype={'DIR [W/m**2]': 'float64',\n",
    "                          'LWD [W/m**2]': 'float64'},\n",
    "                   parse_dates = True)\n",
    "\n",
    "daily_data = data.resample('D').mean()\n",
    "\n",
    "match_date_file = 'shared-ns1000k/dataporten-home/b8b982ef-2de983-2d4813-2dbbd2-2d5e4e04927306/AMDE_VRS.txt'\n",
    "date_data = pd.read_csv(match_date_file, header = None,\n",
    "                   parse_dates = True)\n",
    "date_data.columns = ['Date/Time']\n",
    "date_data['Date/Time'] = pd.to_datetime(date_data['Date/Time'])\n",
    "date_data = date_data.set_index('Date/Time')\n",
    "\n",
    "for i in range(date_data.index.shape[0]):\n",
    "    print(i,'NYA_radiation_' + str(date_data.index[i].year) + '-0' + str(date_data.index[i].month) + '.tab')\n",
    "  \n",
    "daily_data.loc[date_data.index.tolist()].dropna()"
   ]
  }
 ],
 "metadata": {
  "kernelspec": {
   "display_name": "Python 3",
   "language": "python",
   "name": "python3"
  },
  "language_info": {
   "codemirror_mode": {
    "name": "ipython",
    "version": 3
   },
   "file_extension": ".py",
   "mimetype": "text/x-python",
   "name": "python",
   "nbconvert_exporter": "python",
   "pygments_lexer": "ipython3",
   "version": "3.7.3"
  }
 },
 "nbformat": 4,
 "nbformat_minor": 4
}
